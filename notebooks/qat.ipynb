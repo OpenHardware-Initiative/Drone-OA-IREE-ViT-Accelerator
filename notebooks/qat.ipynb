{
 "cells": [
  {
   "cell_type": "code",
   "execution_count": null,
   "id": "5e7760dc",
   "metadata": {},
   "outputs": [],
   "source": [
    "import sys\n",
    "import os\n",
    "\n",
    "# Add the project root directory to sys.path\n",
    "project_root = os.path.abspath(\"..\")  # adjust if needed\n",
    "if project_root not in sys.path:\n",
    "    sys.path.insert(-1, project_root)\n",
    "print(f\"Project root added to sys.path: {project_root}\")\n",
    "import torch\n",
    "#from .ViTSubmodules import *\n",
    "\n",
    "from models.quantized.quant_ready_LSTMNetVIT import QuantReadyLSTMNetViT\n",
    "from models.quantized.quant_ready_ITAConformerLSTM import QuantReadyITALSTM\n",
    "from models.ITAConformerLSTM import ITALSTM\n",
    "\n"
   ]
  },
  {
   "cell_type": "markdown",
   "id": "4aa118ec",
   "metadata": {},
   "source": [
    "# 1 Prepering the pretrained weights\n",
    "We need to remove the spectral_norm wrappers from the models since they arent supported by the torch QAT API\n",
    "\n",
    "We start by loading the model "
   ]
  },
  {
   "cell_type": "code",
   "execution_count": null,
   "id": "44abea06",
   "metadata": {},
   "outputs": [],
   "source": [
    "model = ITALSTM()\n",
    "model.load_state_dict(torch.load(\"../models/pretrained_models/ITALSTM.pth\", map_location='cpu'))\n",
    "model.eval()"
   ]
  },
  {
   "cell_type": "markdown",
   "id": "9e3c9d23",
   "metadata": {},
   "source": [
    "Then we need to generate a dummy input for a single forward pass that normalises the weights"
   ]
  },
  {
   "cell_type": "code",
   "execution_count": null,
   "id": "561acba5",
   "metadata": {},
   "outputs": [],
   "source": [
    "def generate_dummy_input(traj_len=10):\n",
    "    # Simulate a sequence of depth images (T, 1, 60, 90)\n",
    "    depth_images = torch.randn(traj_len, 1, 60, 90)\n",
    "\n",
    "    # Simulate desired velocities (T, 1)\n",
    "    control_input = torch.rand(traj_len, 1)\n",
    "\n",
    "    # Simulate quaternion orientations (T, 4)\n",
    "    orientation = torch.tensor([[1.0, 0.0, 0.0, 0.0]] * traj_len).float()\n",
    "\n",
    "    return [depth_images, control_input, orientation]"
   ]
  },
  {
   "cell_type": "code",
   "execution_count": null,
   "id": "463a5c8c",
   "metadata": {},
   "outputs": [],
   "source": [
    "x = generate_dummy_input()\n",
    "# Perform a forward pass to normalize the weights\n",
    "with torch.no_grad():\n",
    "    _ = model(x)"
   ]
  },
  {
   "cell_type": "markdown",
   "id": "ce614bd7",
   "metadata": {},
   "source": [
    "Now we can remove the spectral norm wrappers and save the model"
   ]
  },
  {
   "cell_type": "code",
   "execution_count": null,
   "id": "285e3c07",
   "metadata": {},
   "outputs": [],
   "source": [
    "torch.nn.utils.remove_spectral_norm(model.decoder)  \n",
    "torch.nn.utils.remove_spectral_norm(model.nn_fc2)\n",
    "\n",
    "\n",
    "torch.save(model.state_dict(), \"../models/pretrained_models/checkpoints_for_qat/ITALSTM.pth\")"
   ]
  },
  {
   "cell_type": "code",
   "execution_count": null,
   "id": "645b80c8",
   "metadata": {},
   "outputs": [],
   "source": [
    "\n",
    "model = QuantReadyITALSTM()\n",
    "pretrained_weights = torch.load(\"../models/pretrained_models/checkpoints_for_qat/ITALSTM.pth\", map_location='cpu')\n",
    "# Load the pretrained weights\n",
    "model.load_state_dict(pretrained_weights, strict=False)\n"
   ]
  }
 ],
 "metadata": {
  "kernelspec": {
   "display_name": "pubflight",
   "language": "python",
   "name": "python3"
  },
  "language_info": {
   "codemirror_mode": {
    "name": "ipython",
    "version": 3
   },
   "file_extension": ".py",
   "mimetype": "text/x-python",
   "name": "python",
   "nbconvert_exporter": "python",
   "pygments_lexer": "ipython3",
   "version": "3.8.20"
  }
 },
 "nbformat": 4,
 "nbformat_minor": 5
}
